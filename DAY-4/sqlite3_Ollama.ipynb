{
 "cells": [
  {
   "cell_type": "code",
   "execution_count": 1,
   "id": "d550124f-162f-483c-a5c4-328c690a0bec",
   "metadata": {},
   "outputs": [
    {
     "name": "stdout",
     "output_type": "stream",
     "text": [
      "Response: {'role': 'assistant', 'content': 'The context provides a sequence of letters that contain the letter \"alpha\". The task is to determine what the first letter is.'}\n"
     ]
    }
   ],
   "source": [
    "import sqlite3\n",
    "import ollama\n",
    "\n",
    "# 1. Set up SQLite database and store sample documents\n",
    "def setup_database():\n",
    "    conn = sqlite3.connect('myfile.db')\n",
    "    cursor = conn.cursor()\n",
    "    cursor.execute('''CREATE TABLE IF NOT EXISTS documents (\n",
    "                        id INTEGER PRIMARY KEY,\n",
    "                        content TEXT\n",
    "                      )''')\n",
    "    sample_documents = [\n",
    "        (\"The first letter is alpha.\",),\n",
    "        (\"The second letter is beta.\",)\n",
    "    ]\n",
    "    cursor.executemany(\"INSERT INTO documents (content) VALUES (?)\", sample_documents)\n",
    "    conn.commit()\n",
    "    conn.close()\n",
    "\n",
    "setup_database()\n",
    "\n",
    "# 2. Function to retrieve documents based on query\n",
    "def retrieve_documents(query):\n",
    "    conn = sqlite3.connect('myfile.db')\n",
    "    cursor = conn.cursor()\n",
    "    cursor.execute(\"SELECT content FROM documents WHERE content LIKE ?\", ('%' + query + '%',))\n",
    "    results = cursor.fetchall()\n",
    "    conn.close()\n",
    "    return [result[0] for result in results]\n",
    "\n",
    "# 3. Function to generate a response using Ollama\n",
    "def generate_response(query, documents):\n",
    "    context = \"\\n\".join(documents)\n",
    "    prompt = f\"Query: {query}\\n\\nContext:\\n{context}\\n\\nResponse:\"\n",
    "    response = ollama.chat(model=\"gemma:2b\", messages=[{\"role\": \"user\", \"content\": prompt}])\n",
    "    return response['message']\n",
    "\n",
    "# 4. Complete flow: Query input, document retrieval, and response generation\n",
    "def handle_query(query):\n",
    "    retrieved_docs = retrieve_documents(query)\n",
    "    if retrieved_docs:\n",
    "        response = generate_response(query, retrieved_docs)\n",
    "        return response\n",
    "    else:\n",
    "        return \"No relevant documents found.\"\n",
    "\n",
    "# Test the whole process with a sample query\n",
    "query = \"first\"\n",
    "response = handle_query(query)\n",
    "print(f\"Response: {response}\")\n"
   ]
  },
  {
   "cell_type": "code",
   "execution_count": 3,
   "id": "cbd193a9-250b-4c77-8259-f5d97b9bb87b",
   "metadata": {},
   "outputs": [
    {
     "name": "stdout",
     "output_type": "stream",
     "text": [
      "Response: No relevant documents found.\n"
     ]
    }
   ],
   "source": [
    "import sqlite3\n",
    "import ollama\n",
    "\n",
    "# 1. Set up SQLite database and store sample documents\n",
    "def setup_database():\n",
    "    conn = sqlite3.connect('myfile.db')\n",
    "    cursor = conn.cursor()\n",
    "    cursor.execute('''CREATE TABLE IF NOT EXISTS documents (\n",
    "                        id INTEGER PRIMARY KEY,\n",
    "                        content TEXT\n",
    "                      )''')\n",
    "    sample_documents = [\n",
    "        (\"The first letter is alpha.\",),\n",
    "        (\"The second letter is beta.\",)\n",
    "    ]\n",
    "    cursor.executemany(\"INSERT INTO documents (content) VALUES (?)\", sample_documents)\n",
    "    conn.commit()\n",
    "    conn.close()\n",
    "\n",
    "setup_database()\n",
    "\n",
    "# 2. Function to retrieve documents based on query\n",
    "def retrieve_documents(query):\n",
    "    conn = sqlite3.connect('myfile.db')\n",
    "    cursor = conn.cursor()\n",
    "    cursor.execute(\"SELECT content FROM documents WHERE content LIKE ?\", ('%' + query + '%',))\n",
    "    results = cursor.fetchall()\n",
    "    conn.close()\n",
    "    return [result[0] for result in results]\n",
    "\n",
    "# 3. Function to generate a response using Ollama\n",
    "def generate_response(query, documents):\n",
    "    context = \"\\n\".join(documents)\n",
    "    prompt = f\"Query: {query}\\n\\nContext:\\n{context}\\n\\nResponse:\"\n",
    "    response = ollama.chat(model=\"gemma:2b\", messages=[{\"role\": \"user\", \"content\": prompt}])\n",
    "    return response['message']\n",
    "\n",
    "# 4. Complete flow: Query input, document retrieval, and response generation\n",
    "def handle_query(query):\n",
    "    retrieved_docs = retrieve_documents(query)\n",
    "    if retrieved_docs:\n",
    "        response = generate_response(query, retrieved_docs)\n",
    "        return response\n",
    "    else:\n",
    "        return \"No relevant documents found.\"\n",
    "\n",
    "# Test the whole process with a sample query\n",
    "query = \"five\"\n",
    "response = handle_query(query)\n",
    "print(f\"Response: {response}\")\n"
   ]
  },
  {
   "cell_type": "code",
   "execution_count": null,
   "id": "5f15636f-9b57-4a4a-aa88-7cdd458136a2",
   "metadata": {},
   "outputs": [],
   "source": []
  },
  {
   "cell_type": "code",
   "execution_count": null,
   "id": "531ad912-a202-4019-bd1b-be9efb94d758",
   "metadata": {},
   "outputs": [],
   "source": []
  }
 ],
 "metadata": {
  "kernelspec": {
   "display_name": "Python 3 (ipykernel)",
   "language": "python",
   "name": "python3"
  },
  "language_info": {
   "codemirror_mode": {
    "name": "ipython",
    "version": 3
   },
   "file_extension": ".py",
   "mimetype": "text/x-python",
   "name": "python",
   "nbconvert_exporter": "python",
   "pygments_lexer": "ipython3",
   "version": "3.12.3"
  }
 },
 "nbformat": 4,
 "nbformat_minor": 5
}
